{
 "metadata": {
  "name": "",
  "signature": "sha256:7bf55c2e4a59176c92dd98659eadb5c68dcfacf8e90ac48719f21bd1b0e3741c"
 },
 "nbformat": 3,
 "nbformat_minor": 0,
 "worksheets": [
  {
   "cells": [
    {
     "cell_type": "markdown",
     "metadata": {},
     "source": [
      "O que precisamos para trabalhar:"
     ]
    },
    {
     "cell_type": "code",
     "collapsed": false,
     "input": [
      "import matplotlib.pyplot as plt\n",
      "import pandas as pd\n",
      "from IPython.display import display, Math, Latex\n",
      "\n",
      "%matplotlib inline\n",
      "pd.options.display.mpl_style = 'default'"
     ],
     "language": "python",
     "metadata": {},
     "outputs": [],
     "prompt_number": 118
    },
    {
     "cell_type": "markdown",
     "metadata": {},
     "source": [
      "Caminho e nome do arquivo com a medida (par\u00e2metro <code>FILE_PATH</code>) e a quantidade de linhas do cabe\u00e7alho, que ser\u00e3o ignoradas (<code>HEADER</code>):\n",
      "\n",
      "Os arquivos de medidas originais t\u00eam uma formata\u00e7\u00e3o n\u00e3o muito apropriada para manipula\u00e7\u00e3o, com espa\u00e7os sobrando e tabs em duplicidade, al\u00e9m de quebra de linha no estilo do Windows. Precisei, ent\u00e3o, fazer uma manipula\u00e7\u00e3o com esses arquivos. A seguinte sequ\u00eancia funcionou:\n",
      "<code>\n",
      "cat input | sed 's/\\t\\t/\\t/g' | sed 's/\\t\\r//g' | sed 's/ //g' | sed 's/,/./g' | sed 's/\\t\\t/\\t/g' > output\n",
      "</code>\n",
      "\n",
      "Por algum motivo que eu n\u00e3o descobri, \u00e9 necess\u00e1rio fazer a substitui\u00e7\u00e3o de dois tabs seguidos por um duas vezes. Sen\u00e3o n\u00e3o funciona! :o"
     ]
    },
    {
     "cell_type": "code",
     "collapsed": false,
     "input": [
      "FILE_PATH = \"../measurements/53.dat\"\n",
      "HEADER = 0"
     ],
     "language": "python",
     "metadata": {},
     "outputs": [],
     "prompt_number": 122
    },
    {
     "cell_type": "markdown",
     "metadata": {},
     "source": [
      "Carrega o arquivo e imprime o come\u00e7o dele, para confer\u00eancia:"
     ]
    },
    {
     "cell_type": "code",
     "collapsed": false,
     "input": [
      "data = pd.read_csv(FILE_PATH, sep=\"\\t\", header=HEADER)\n",
      "data.head()"
     ],
     "language": "python",
     "metadata": {},
     "outputs": [
      {
       "html": [
        "<div style=\"max-height:1000px;max-width:1500px;overflow:auto;\">\n",
        "<table border=\"1\" class=\"dataframe\">\n",
        "  <thead>\n",
        "    <tr style=\"text-align: right;\">\n",
        "      <th></th>\n",
        "      <th>Inter.</th>\n",
        "      <th>DataeHora</th>\n",
        "      <th>Comp.onda(nm)</th>\n",
        "      <th>Sinal</th>\n",
        "      <th>Unid.</th>\n",
        "      <th>Fase(\ufffd)</th>\n",
        "      <th>Freq.(Hz)</th>\n",
        "    </tr>\n",
        "  </thead>\n",
        "  <tbody>\n",
        "    <tr>\n",
        "      <th>0</th>\n",
        "      <td> 1</td>\n",
        "      <td> 04/02/2015-10:53:57</td>\n",
        "      <td> 1999.986</td>\n",
        "      <td> 0.00026</td>\n",
        "      <td> V</td>\n",
        "      <td> 98.58</td>\n",
        "      <td> 98.619</td>\n",
        "    </tr>\n",
        "    <tr>\n",
        "      <th>1</th>\n",
        "      <td> 2</td>\n",
        "      <td> 04/02/2015-10:53:59</td>\n",
        "      <td> 2049.965</td>\n",
        "      <td> 0.00025</td>\n",
        "      <td> V</td>\n",
        "      <td> 99.09</td>\n",
        "      <td> 98.799</td>\n",
        "    </tr>\n",
        "    <tr>\n",
        "      <th>2</th>\n",
        "      <td> 3</td>\n",
        "      <td> 04/02/2015-10:54:01</td>\n",
        "      <td> 2099.972</td>\n",
        "      <td> 0.00024</td>\n",
        "      <td> V</td>\n",
        "      <td> 98.30</td>\n",
        "      <td> 98.789</td>\n",
        "    </tr>\n",
        "    <tr>\n",
        "      <th>3</th>\n",
        "      <td> 4</td>\n",
        "      <td> 04/02/2015-10:54:03</td>\n",
        "      <td> 2149.970</td>\n",
        "      <td> 0.00025</td>\n",
        "      <td> V</td>\n",
        "      <td> 98.92</td>\n",
        "      <td> 98.741</td>\n",
        "    </tr>\n",
        "    <tr>\n",
        "      <th>4</th>\n",
        "      <td> 5</td>\n",
        "      <td> 04/02/2015-10:54:05</td>\n",
        "      <td> 2199.996</td>\n",
        "      <td> 0.00025</td>\n",
        "      <td> V</td>\n",
        "      <td> 99.09</td>\n",
        "      <td> 98.595</td>\n",
        "    </tr>\n",
        "  </tbody>\n",
        "</table>\n",
        "</div>"
       ],
       "metadata": {},
       "output_type": "pyout",
       "prompt_number": 123,
       "text": [
        "   Inter.            DataeHora  Comp.onda(nm)    Sinal Unid.  Fase(\ufffd)  \\\n",
        "0       1  04/02/2015-10:53:57       1999.986  0.00026     V    98.58   \n",
        "1       2  04/02/2015-10:53:59       2049.965  0.00025     V    99.09   \n",
        "2       3  04/02/2015-10:54:01       2099.972  0.00024     V    98.30   \n",
        "3       4  04/02/2015-10:54:03       2149.970  0.00025     V    98.92   \n",
        "4       5  04/02/2015-10:54:05       2199.996  0.00025     V    99.09   \n",
        "\n",
        "   Freq.(Hz)  \n",
        "0     98.619  \n",
        "1     98.799  \n",
        "2     98.789  \n",
        "3     98.741  \n",
        "4     98.595  "
       ]
      }
     ],
     "prompt_number": 123
    },
    {
     "cell_type": "markdown",
     "metadata": {},
     "source": [
      "Seleciona os eixos $x$ e $y$ a partir das colunas do arquivo e desenha o gr\u00e1fico:"
     ]
    },
    {
     "cell_type": "code",
     "collapsed": false,
     "input": [
      "x = data[\"Comp.onda(nm)\"]\n",
      "y = data[\"Sinal\"]\n",
      "plt.plot(x, y, 'r', linewidth=2)"
     ],
     "language": "python",
     "metadata": {},
     "outputs": [
      {
       "metadata": {},
       "output_type": "pyout",
       "prompt_number": 124,
       "text": [
        "[<matplotlib.lines.Line2D at 0x7fadc7b4bc50>]"
       ]
      },
      {
       "metadata": {},
       "output_type": "display_data",
       "png": "[encoded data removed]",
       "text": [
        "<matplotlib.figure.Figure at 0x7fadc7f9f390>"
       ]
      }
     ],
     "prompt_number": 124
    },
    {
     "cell_type": "code",
     "collapsed": false,
     "input": [],
     "language": "python",
     "metadata": {},
     "outputs": [],
     "prompt_number": 124
    }
   ],
   "metadata": {}
  }
 ]
}