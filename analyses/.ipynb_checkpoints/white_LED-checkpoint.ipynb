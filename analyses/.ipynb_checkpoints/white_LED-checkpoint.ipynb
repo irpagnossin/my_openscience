{
 "metadata": {
  "name": "",
  "signature": "sha256:930a02a8b1cbbfa866b5973eb5b39c250d8a32de93a3fb80a590f5eab70ef070"
 },
 "nbformat": 3,
 "nbformat_minor": 0,
 "worksheets": [
  {
   "cells": [
    {
     "cell_type": "heading",
     "level": 1,
     "metadata": {},
     "source": [
      "LED branco"
     ]
    },
    {
     "cell_type": "markdown",
     "metadata": {},
     "source": [
      "Por *curiosidade*, medi o espectro de uma lanterna de LED branco."
     ]
    },
    {
     "cell_type": "markdown",
     "metadata": {},
     "source": [
      "O que precisamos para trabalhar:"
     ]
    },
    {
     "cell_type": "code",
     "collapsed": false,
     "input": [
      "import matplotlib.pyplot as plt\n",
      "import numpy as np\n",
      "import pandas as pd\n",
      "from IPython.display import display, Math, Latex\n",
      "\n",
      "%matplotlib inline\n",
      "pd.options.display.mpl_style = 'default'"
     ],
     "language": "python",
     "metadata": {},
     "outputs": [],
     "prompt_number": 10
    },
    {
     "cell_type": "markdown",
     "metadata": {},
     "source": [
      "Caminho e nome do arquivo com a medida (par\u00e2metro <code>FILE_PATH</code>) e a quantidade de linhas do cabe\u00e7alho, que ser\u00e3o ignoradas (<code>HEADER</code>):"
     ]
    },
    {
     "cell_type": "code",
     "collapsed": false,
     "input": [
      "FILE_PATH = \"../measurements/52.med\"\n",
      "HEADER = 5"
     ],
     "language": "python",
     "metadata": {},
     "outputs": [],
     "prompt_number": 4
    },
    {
     "cell_type": "markdown",
     "metadata": {},
     "source": [
      "Carrega o arquivo e imprime o come\u00e7o dele, para confer\u00eancia:"
     ]
    },
    {
     "cell_type": "code",
     "collapsed": false,
     "input": [
      "data = pd.read_csv(FILE_PATH, sep=\"\\t\", header=HEADER)\n",
      "data.head()"
     ],
     "language": "python",
     "metadata": {},
     "outputs": [
      {
       "html": [
        "<div style=\"max-height:1000px;max-width:1500px;overflow:auto;\">\n",
        "<table border=\"1\" class=\"dataframe\">\n",
        "  <thead>\n",
        "    <tr style=\"text-align: right;\">\n",
        "      <th></th>\n",
        "      <th>Corrente (A)</th>\n",
        "      <th>Comprimento de onda(nm)</th>\n",
        "    </tr>\n",
        "  </thead>\n",
        "  <tbody>\n",
        "    <tr>\n",
        "      <th>0</th>\n",
        "      <td> 2.000000e-11</td>\n",
        "      <td> 350.000000</td>\n",
        "    </tr>\n",
        "    <tr>\n",
        "      <th>1</th>\n",
        "      <td> 1.500000e-11</td>\n",
        "      <td> 354.984528</td>\n",
        "    </tr>\n",
        "    <tr>\n",
        "      <th>2</th>\n",
        "      <td> 1.500000e-11</td>\n",
        "      <td> 359.980351</td>\n",
        "    </tr>\n",
        "    <tr>\n",
        "      <th>3</th>\n",
        "      <td> 1.500000e-11</td>\n",
        "      <td> 364.975154</td>\n",
        "    </tr>\n",
        "    <tr>\n",
        "      <th>4</th>\n",
        "      <td> 2.000000e-11</td>\n",
        "      <td> 369.968923</td>\n",
        "    </tr>\n",
        "  </tbody>\n",
        "</table>\n",
        "<p>5 rows \u00d7 2 columns</p>\n",
        "</div>"
       ],
       "metadata": {},
       "output_type": "pyout",
       "prompt_number": 5,
       "text": [
        "   Corrente (A)  Comprimento de onda(nm)\n",
        "0  2.000000e-11               350.000000\n",
        "1  1.500000e-11               354.984528\n",
        "2  1.500000e-11               359.980351\n",
        "3  1.500000e-11               364.975154\n",
        "4  2.000000e-11               369.968923\n",
        "\n",
        "[5 rows x 2 columns]"
       ]
      }
     ],
     "prompt_number": 5
    },
    {
     "cell_type": "markdown",
     "metadata": {},
     "source": [
      "Seleciona os eixos $x$ e $y$ a partir das colunas do arquivo e desenha o gr\u00e1fico:"
     ]
    },
    {
     "cell_type": "code",
     "collapsed": false,
     "input": [
      "x = data[\"Comprimento de onda(nm)\"]\n",
      "y = data[\"Corrente (A)\"]\n",
      "plt.plot(x, y, 'r', linewidth=2)"
     ],
     "language": "python",
     "metadata": {},
     "outputs": [
      {
       "metadata": {},
       "output_type": "pyout",
       "prompt_number": 6,
       "text": [
        "[<matplotlib.lines.Line2D at 0x7f23a4a24990>]"
       ]
      },
      {
       "metadata": {},
       "output_type": "display_data",
       "png": "[encoded data removed]",
       "text": [
        "<matplotlib.figure.Figure at 0x7f23a4ae1550>"
       ]
      }
     ],
     "prompt_number": 6
    },
    {
     "cell_type": "markdown",
     "metadata": {},
     "source": [
      "Pr\u00f3ximo aprendizado com Pandas/Numpy: como determinar os m\u00e1ximos do espectro? Vamos por diferen\u00e7as finitas..."
     ]
    },
    {
     "cell_type": "code",
     "collapsed": false,
     "input": [
      "plt.plot(x[0:-1],np.sign(np.diff(y)))"
     ],
     "language": "python",
     "metadata": {},
     "outputs": [
      {
       "metadata": {},
       "output_type": "pyout",
       "prompt_number": 23,
       "text": [
        "[<matplotlib.lines.Line2D at 0x7f23a47a7310>]"
       ]
      },
      {
       "metadata": {},
       "output_type": "display_data",
       "png": "[encoded data removed]",
       "text": [
        "<matplotlib.figure.Figure at 0x7f23a4943390>"
       ]
      }
     ],
     "prompt_number": 23
    },
    {
     "cell_type": "markdown",
     "metadata": {},
     "source": [
      "Visualmente, os m\u00e1ximos do espectro est\u00e3o em 460 nm e 560 nm, mais ou menos. O primeiro pico \u00e9 o azul e o segundo, o verde. Falta o vermelho, que tem de estar entre 600 e 650 nm. Preciso fazer uma decomposi\u00e7\u00e3o de picos!..."
     ]
    },
    {
     "cell_type": "markdown",
     "metadata": {},
     "source": []
    }
   ],
   "metadata": {}
  }
 ]
}