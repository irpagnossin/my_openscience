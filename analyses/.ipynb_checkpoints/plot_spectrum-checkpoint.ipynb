{
 "metadata": {
  "name": "",
  "signature": "sha256:f6ce28887d32d6a3f6e0dd39be78f755cecace6b2fb29179c304dca2cc0762f4"
 },
 "nbformat": 3,
 "nbformat_minor": 0,
 "worksheets": [
  {
   "cells": [
    {
     "cell_type": "markdown",
     "metadata": {},
     "source": [
      "O que precisamos para trabalhar:"
     ]
    },
    {
     "cell_type": "code",
     "collapsed": false,
     "input": [
      "import matplotlib.pyplot as plt\n",
      "import pandas as pd\n",
      "from IPython.display import display, Math, Latex\n",
      "\n",
      "%matplotlib inline\n",
      "pd.options.display.mpl_style = 'default'"
     ],
     "language": "python",
     "metadata": {},
     "outputs": [],
     "prompt_number": 1
    },
    {
     "cell_type": "markdown",
     "metadata": {},
     "source": [
      "Caminho e nome do arquivo com a medida (par\u00e2metro <code>FILE_PATH</code>) e a quantidade de linhas do cabe\u00e7alho, que ser\u00e3o ignoradas (<code>HEADER</code>):"
     ]
    },
    {
     "cell_type": "code",
     "collapsed": false,
     "input": [
      "FILE_PATH = \"../measurements/15.med\"\n",
      "HEADER = 5"
     ],
     "language": "python",
     "metadata": {},
     "outputs": [],
     "prompt_number": 2
    },
    {
     "cell_type": "markdown",
     "metadata": {},
     "source": [
      "Carrega o arquivo e imprime o come\u00e7o dele, para confer\u00eancia:"
     ]
    },
    {
     "cell_type": "code",
     "collapsed": false,
     "input": [
      "data = pd.read_csv(FILE_PATH, sep=\"\\t\", header=HEADER)\n",
      "data.head()"
     ],
     "language": "python",
     "metadata": {},
     "outputs": [
      {
       "html": [
        "<div style=\"max-height:1000px;max-width:1500px;overflow:auto;\">\n",
        "<table border=\"1\" class=\"dataframe\">\n",
        "  <thead>\n",
        "    <tr style=\"text-align: right;\">\n",
        "      <th></th>\n",
        "      <th>Magnitude (mV)</th>\n",
        "      <th>Comprimento de onda(nm)</th>\n",
        "    </tr>\n",
        "  </thead>\n",
        "  <tbody>\n",
        "    <tr>\n",
        "      <th>0</th>\n",
        "      <td> 9.900000</td>\n",
        "      <td> 1000.000000</td>\n",
        "    </tr>\n",
        "    <tr>\n",
        "      <th>1</th>\n",
        "      <td> 9.600000</td>\n",
        "      <td> 1010.017069</td>\n",
        "    </tr>\n",
        "    <tr>\n",
        "      <th>2</th>\n",
        "      <td> 9.400000</td>\n",
        "      <td> 1020.039170</td>\n",
        "    </tr>\n",
        "    <tr>\n",
        "      <th>3</th>\n",
        "      <td> 9.066667</td>\n",
        "      <td> 1030.058304</td>\n",
        "    </tr>\n",
        "    <tr>\n",
        "      <th>4</th>\n",
        "      <td> 8.800000</td>\n",
        "      <td> 1040.074442</td>\n",
        "    </tr>\n",
        "  </tbody>\n",
        "</table>\n",
        "</div>"
       ],
       "metadata": {},
       "output_type": "pyout",
       "prompt_number": 3,
       "text": [
        "   Magnitude (mV)  Comprimento de onda(nm)\n",
        "0        9.900000              1000.000000\n",
        "1        9.600000              1010.017069\n",
        "2        9.400000              1020.039170\n",
        "3        9.066667              1030.058304\n",
        "4        8.800000              1040.074442"
       ]
      }
     ],
     "prompt_number": 3
    },
    {
     "cell_type": "markdown",
     "metadata": {},
     "source": [
      "Seleciona os eixos $x$ e $y$ a partir das colunas do arquivo e desenha o gr\u00e1fico:"
     ]
    },
    {
     "cell_type": "code",
     "collapsed": false,
     "input": [
      "x = data[\"Comprimento de onda(nm)\"]\n",
      "y = data[\"Magnitude (mV)\"]\n",
      "plt.plot(x, y, 'r', linewidth=2)"
     ],
     "language": "python",
     "metadata": {},
     "outputs": [
      {
       "metadata": {},
       "output_type": "pyout",
       "prompt_number": 4,
       "text": [
        "[<matplotlib.lines.Line2D at 0x3a72290>]"
       ]
      },
      {
       "metadata": {},
       "output_type": "display_data",
       "png": "[encoded data removed]",
       "text": [
        "<matplotlib.figure.Figure at 0x39063d0>"
       ]
      }
     ],
     "prompt_number": 4
    }
   ],
   "metadata": {}
  }
 ]
}